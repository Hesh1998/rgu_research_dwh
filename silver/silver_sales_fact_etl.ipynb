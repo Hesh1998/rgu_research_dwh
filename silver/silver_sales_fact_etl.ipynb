{
 "cells": [
  {
   "cell_type": "code",
   "execution_count": 0,
   "metadata": {
    "application/vnd.databricks.v1+cell": {
     "cellMetadata": {
      "byteLimit": 2048000,
      "implicitDf": true,
      "rowLimit": 10000
     },
     "inputWidgets": {},
     "nuid": "dedc3156-0b63-4117-8912-d63f4c9af62e",
     "showTitle": false,
     "tableResultSettingsMap": {},
     "title": ""
    }
   },
   "outputs": [],
   "source": [
    "%sql\n",
    "-- Delete all records from Silver Table\n",
    "TRUNCATE TABLE dwh.silver.sales_fact;"
   ]
  },
  {
   "cell_type": "code",
   "execution_count": 0,
   "metadata": {
    "application/vnd.databricks.v1+cell": {
     "cellMetadata": {
      "byteLimit": 2048000,
      "implicitDf": true,
      "rowLimit": 10000
     },
     "inputWidgets": {},
     "nuid": "6b34843d-b356-4cf5-bdc6-68439854f936",
     "showTitle": false,
     "tableResultSettingsMap": {},
     "title": ""
    }
   },
   "outputs": [],
   "source": [
    "%sql\n",
    "-- Insert new data to Silver Table\n",
    "INSERT INTO dwh.silver.sales_fact (order_number, line_item, order_date, delivery_date, customer_sk, store_sk, product_sk, quantity, currency_sk)\n",
    "SELECT DISTINCT order_number, line_item, order_date, delivery_date, customer_sk, store_sk, product_sk, quantity, currency_sk\n",
    "FROM (\n",
    "    SELECT\n",
    "    sales.order_number, \n",
    "    sales.line_item, \n",
    "    sales.order_date, \n",
    "    sales.delivery_date, \n",
    "    sales.customer_key AS customer_sk, \n",
    "    sales.store_key AS store_sk, \n",
    "    sales.product_key AS product_sk, \n",
    "    sales.quantity,\n",
    "    COALESCE(curr.currency_sk, -1) AS currency_sk\n",
    "    FROM dwh.bronze.sales AS sales\n",
    "    LEFT OUTER JOIN dwh.silver.currency_dim AS curr\n",
    "    ON sales.currency_code = curr.currency AND sales.order_date = curr.date\n",
    ") AS combined;"
   ]
  }
 ],
 "metadata": {
  "application/vnd.databricks.v1+notebook": {
   "computePreferences": null,
   "dashboards": [],
   "environmentMetadata": {
    "base_environment": "",
    "environment_version": "4"
   },
   "inputWidgetPreferences": null,
   "language": "python",
   "notebookMetadata": {
    "mostRecentlyExecutedCommandWithImplicitDF": {
     "commandId": 8704192475153166,
     "dataframes": [
      "_sqldf"
     ]
    },
    "pythonIndentUnit": 4
   },
   "notebookName": "silver_sales_fact_etl",
   "widgets": {}
  },
  "language_info": {
   "name": "python"
  }
 },
 "nbformat": 4,
 "nbformat_minor": 0
}
