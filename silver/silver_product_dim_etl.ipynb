{
 "cells": [
  {
   "cell_type": "code",
   "execution_count": 0,
   "metadata": {
    "application/vnd.databricks.v1+cell": {
     "cellMetadata": {
      "byteLimit": 2048000,
      "implicitDf": true,
      "rowLimit": 10000
     },
     "inputWidgets": {},
     "nuid": "dedc3156-0b63-4117-8912-d63f4c9af62e",
     "showTitle": false,
     "tableResultSettingsMap": {},
     "title": ""
    }
   },
   "outputs": [],
   "source": [
    "%sql\n",
    "-- Delete all records from Silver Table\n",
    "TRUNCATE TABLE dwh.silver.product_dim;"
   ]
  },
  {
   "cell_type": "code",
   "execution_count": 0,
   "metadata": {
    "application/vnd.databricks.v1+cell": {
     "cellMetadata": {
      "byteLimit": 2048000,
      "implicitDf": true,
      "rowLimit": 10000
     },
     "inputWidgets": {},
     "nuid": "6b34843d-b356-4cf5-bdc6-68439854f936",
     "showTitle": false,
     "tableResultSettingsMap": {},
     "title": ""
    }
   },
   "outputs": [],
   "source": [
    "%sql\n",
    "-- Insert new data to Silver Table\n",
    "INSERT INTO dwh.silver.product_dim (product_sk, product_name, brand, color, unit_cost_usd, unit_price_usd, category_sk)\n",
    "SELECT DISTINCT product_sk, product_name, brand, color, unit_cost_usd, unit_price_usd, category_sk\n",
    "FROM (\n",
    "    SELECT \n",
    "    prd.product_key AS product_sk,\n",
    "    prd.product_name,\n",
    "    prd.brand,\n",
    "    prd.color,\n",
    "    prd.unit_cost_usd,\n",
    "    prd.unit_price_usd, \n",
    "    COALESCE(cat.category_sk, -1) AS category_sk\n",
    "    FROM dwh.bronze.product AS prd\n",
    "    LEFT OUTER JOIN dwh.silver.category_dim AS cat\n",
    "    ON prd.category = cat.category AND prd.subcategory = cat.subcategory\n",
    ") AS combined;"
   ]
  }
 ],
 "metadata": {
  "application/vnd.databricks.v1+notebook": {
   "computePreferences": null,
   "dashboards": [],
   "environmentMetadata": {
    "base_environment": "",
    "environment_version": "4"
   },
   "inputWidgetPreferences": null,
   "language": "python",
   "notebookMetadata": {
    "mostRecentlyExecutedCommandWithImplicitDF": {
     "commandId": 8704192475153164,
     "dataframes": [
      "_sqldf"
     ]
    },
    "pythonIndentUnit": 4
   },
   "notebookName": "silver_product_dim_etl",
   "widgets": {}
  },
  "language_info": {
   "name": "python"
  }
 },
 "nbformat": 4,
 "nbformat_minor": 0
}
