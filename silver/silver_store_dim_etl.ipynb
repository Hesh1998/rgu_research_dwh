{
 "cells": [
  {
   "cell_type": "code",
   "execution_count": 0,
   "metadata": {
    "application/vnd.databricks.v1+cell": {
     "cellMetadata": {
      "byteLimit": 2048000,
      "implicitDf": true,
      "rowLimit": 10000
     },
     "inputWidgets": {},
     "nuid": "dedc3156-0b63-4117-8912-d63f4c9af62e",
     "showTitle": false,
     "tableResultSettingsMap": {},
     "title": ""
    }
   },
   "outputs": [],
   "source": [
    "%sql\n",
    "-- Delete all records from Silver Table\n",
    "TRUNCATE TABLE dwh.silver.store_dim;"
   ]
  },
  {
   "cell_type": "code",
   "execution_count": 0,
   "metadata": {
    "application/vnd.databricks.v1+cell": {
     "cellMetadata": {
      "byteLimit": 2048000,
      "implicitDf": true,
      "rowLimit": 10000
     },
     "inputWidgets": {},
     "nuid": "6b34843d-b356-4cf5-bdc6-68439854f936",
     "showTitle": false,
     "tableResultSettingsMap": {},
     "title": ""
    }
   },
   "outputs": [],
   "source": [
    "%sql\n",
    "-- Insert new data to Silver Table\n",
    "INSERT INTO dwh.silver.store_dim (store_sk, country_state_sk, square_meters, open_date)\n",
    "SELECT DISTINCT store_sk, country_state_sk, square_meters, open_date\n",
    "FROM (\n",
    "    SELECT\n",
    "    st.store_key AS store_sk,\n",
    "    COALESCE(cs.country_state_sk, -1) AS country_state_sk,\n",
    "    st.square_meters, \n",
    "    st.open_date\n",
    "    FROM dwh.bronze.store AS st\n",
    "    LEFT OUTER JOIN dwh.silver.country_state_dim AS cs\n",
    "    ON st.country = cs.country AND st.state = cs.state\n",
    ") AS combined;"
   ]
  }
 ],
 "metadata": {
  "application/vnd.databricks.v1+notebook": {
   "computePreferences": null,
   "dashboards": [],
   "environmentMetadata": {
    "base_environment": "",
    "environment_version": "4"
   },
   "inputWidgetPreferences": null,
   "language": "python",
   "notebookMetadata": {
    "mostRecentlyExecutedCommandWithImplicitDF": {
     "commandId": 6981540065716769,
     "dataframes": [
      "_sqldf"
     ]
    },
    "pythonIndentUnit": 4
   },
   "notebookName": "silver_store_dim_etl",
   "widgets": {}
  },
  "language_info": {
   "name": "python"
  }
 },
 "nbformat": 4,
 "nbformat_minor": 0
}
