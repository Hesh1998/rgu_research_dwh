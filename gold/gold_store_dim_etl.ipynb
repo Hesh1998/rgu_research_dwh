{
 "cells": [
  {
   "cell_type": "code",
   "execution_count": 0,
   "metadata": {
    "application/vnd.databricks.v1+cell": {
     "cellMetadata": {
      "byteLimit": 2048000,
      "implicitDf": true,
      "rowLimit": 10000
     },
     "inputWidgets": {},
     "nuid": "48e7f31a-c459-496c-b106-41f2572f8b83",
     "showTitle": false,
     "tableResultSettingsMap": {},
     "title": ""
    }
   },
   "outputs": [],
   "source": [
    "%sql\n",
    "-- Insert/Update records in Gold Table\n",
    "MERGE INTO dwh.gold.store_dim AS tgt\n",
    "USING dwh.silver.store_dim AS src\n",
    "ON tgt.store_sk = src.store_sk\n",
    "WHEN MATCHED THEN\n",
    "  UPDATE SET\n",
    "    tgt.country_state_sk = src.country_state_sk,\n",
    "    tgt.square_meters = src.square_meters,\n",
    "    tgt.open_date = src.open_date\n",
    "WHEN NOT MATCHED THEN\n",
    "  INSERT (store_sk, country_state_sk, square_meters, open_date)\n",
    "  VALUES (src.store_sk, src.country_state_sk, src.square_meters, src.open_date);"
   ]
  }
 ],
 "metadata": {
  "application/vnd.databricks.v1+notebook": {
   "computePreferences": null,
   "dashboards": [],
   "environmentMetadata": {
    "base_environment": "",
    "environment_version": "4"
   },
   "inputWidgetPreferences": null,
   "language": "python",
   "notebookMetadata": {
    "mostRecentlyExecutedCommandWithImplicitDF": {
     "commandId": 4563559184083295,
     "dataframes": [
      "_sqldf"
     ]
    },
    "pythonIndentUnit": 4
   },
   "notebookName": "gold_store_dim_etl",
   "widgets": {}
  },
  "language_info": {
   "name": "python"
  }
 },
 "nbformat": 4,
 "nbformat_minor": 0
}
