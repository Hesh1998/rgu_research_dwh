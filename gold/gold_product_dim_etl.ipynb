{
 "cells": [
  {
   "cell_type": "code",
   "execution_count": 0,
   "metadata": {
    "application/vnd.databricks.v1+cell": {
     "cellMetadata": {
      "byteLimit": 2048000,
      "implicitDf": true,
      "rowLimit": 10000
     },
     "inputWidgets": {},
     "nuid": "052e7622-d91a-4dd8-9648-bfeef0d3803d",
     "showTitle": false,
     "tableResultSettingsMap": {},
     "title": ""
    }
   },
   "outputs": [],
   "source": [
    "%sql\n",
    "-- Insert/Update records in Gold Table\n",
    "MERGE INTO dwh.gold.product_dim AS tgt\n",
    "USING dwh.silver.product_dim AS src\n",
    "ON tgt.product_sk = src.product_sk\n",
    "WHEN MATCHED THEN\n",
    "  UPDATE SET\n",
    "    tgt.product_name = src.product_name,\n",
    "    tgt.brand = src.brand,\n",
    "    tgt.color = src.color,\n",
    "    tgt.unit_cost_usd = src.unit_cost_usd,\n",
    "    tgt.unit_price_usd = src.unit_price_usd,\n",
    "    tgt.category_sk = src.category_sk\n",
    "WHEN NOT MATCHED THEN\n",
    "  INSERT (product_sk, product_name, brand, color, unit_cost_usd, unit_price_usd, category_sk)\n",
    "  VALUES (src.product_sk, src.product_name, src.brand, src.color, src.unit_cost_usd, src.unit_price_usd, src.category_sk);"
   ]
  }
 ],
 "metadata": {
  "application/vnd.databricks.v1+notebook": {
   "computePreferences": null,
   "dashboards": [],
   "environmentMetadata": {
    "base_environment": "",
    "environment_version": "4"
   },
   "inputWidgetPreferences": null,
   "language": "python",
   "notebookMetadata": {
    "mostRecentlyExecutedCommandWithImplicitDF": {
     "commandId": 4749832683504448,
     "dataframes": [
      "_sqldf"
     ]
    },
    "pythonIndentUnit": 4
   },
   "notebookName": "gold_product_dim_etl",
   "widgets": {}
  },
  "language_info": {
   "name": "python"
  }
 },
 "nbformat": 4,
 "nbformat_minor": 0
}
