{
 "cells": [
  {
   "cell_type": "code",
   "execution_count": 0,
   "metadata": {
    "application/vnd.databricks.v1+cell": {
     "cellMetadata": {
      "byteLimit": 2048000,
      "implicitDf": true,
      "rowLimit": 10000
     },
     "inputWidgets": {},
     "nuid": "ba5c4cbd-8717-44fe-ba1b-2abc732a33c5",
     "showTitle": false,
     "tableResultSettingsMap": {},
     "title": ""
    }
   },
   "outputs": [],
   "source": [
    "%sql\n",
    "-- Insert new records to Gold Table\n",
    "TRUNCATE TABLE dwh.gold.sales_fact;\n",
    "\n",
    "INSERT INTO dwh.gold.sales_fact (order_number, line_item, order_date, delivery_date, customer_sk, store_sk, product_sk, quantity, currency_sk)\n",
    "SELECT order_number, line_item, order_date, delivery_date, customer_sk, store_sk, product_sk, quantity, currency_sk\n",
    "FROM dwh.silver.sales_fact;"
   ]
  }
 ],
 "metadata": {
  "application/vnd.databricks.v1+notebook": {
   "computePreferences": null,
   "dashboards": [],
   "environmentMetadata": {
    "base_environment": "",
    "environment_version": "4"
   },
   "inputWidgetPreferences": null,
   "language": "python",
   "notebookMetadata": {
    "mostRecentlyExecutedCommandWithImplicitDF": {
     "commandId": 4749832683504451,
     "dataframes": [
      "_sqldf"
     ]
    },
    "pythonIndentUnit": 4
   },
   "notebookName": "gold_sales_fact_etl",
   "widgets": {}
  },
  "language_info": {
   "name": "python"
  }
 },
 "nbformat": 4,
 "nbformat_minor": 0
}
