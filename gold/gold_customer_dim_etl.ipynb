{
 "cells": [
  {
   "cell_type": "code",
   "execution_count": 0,
   "metadata": {
    "application/vnd.databricks.v1+cell": {
     "cellMetadata": {
      "byteLimit": 2048000,
      "implicitDf": true,
      "rowLimit": 10000
     },
     "inputWidgets": {},
     "nuid": "dd9f5709-3e65-4d21-90f7-7f5d0e8e3443",
     "showTitle": false,
     "tableResultSettingsMap": {},
     "title": ""
    }
   },
   "outputs": [],
   "source": [
    "%sql\n",
    "-- Insert/Update records in Gold Table\n",
    "MERGE INTO dwh.gold.customer_dim AS tgt\n",
    "USING dwh.silver.customer_dim AS src\n",
    "ON tgt.customer_sk = src.customer_sk\n",
    "WHEN MATCHED THEN\n",
    "  UPDATE SET\n",
    "    tgt.gender = src.gender,\n",
    "    tgt.name = src.name,\n",
    "    tgt.country_state_sk = src.country_state_sk\n",
    "WHEN NOT MATCHED THEN\n",
    "  INSERT (customer_sk, gender, name, country_state_sk)\n",
    "  VALUES (src.customer_sk, src.gender, src.name, src.country_state_sk);"
   ]
  }
 ],
 "metadata": {
  "application/vnd.databricks.v1+notebook": {
   "computePreferences": null,
   "dashboards": [],
   "environmentMetadata": {
    "base_environment": "",
    "environment_version": "4"
   },
   "inputWidgetPreferences": null,
   "language": "python",
   "notebookMetadata": {
    "mostRecentlyExecutedCommandWithImplicitDF": {
     "commandId": 5234438887426660,
     "dataframes": [
      "_sqldf"
     ]
    },
    "pythonIndentUnit": 4
   },
   "notebookName": "gold_customer_dim_etl",
   "widgets": {}
  },
  "language_info": {
   "name": "python"
  }
 },
 "nbformat": 4,
 "nbformat_minor": 0
}
