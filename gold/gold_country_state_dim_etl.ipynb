{
 "cells": [
  {
   "cell_type": "code",
   "execution_count": 0,
   "metadata": {
    "application/vnd.databricks.v1+cell": {
     "cellMetadata": {
      "byteLimit": 2048000,
      "implicitDf": true,
      "rowLimit": 10000
     },
     "inputWidgets": {},
     "nuid": "3432ddbb-fe71-46db-8edc-ece7fdd366b1",
     "showTitle": false,
     "tableResultSettingsMap": {},
     "title": ""
    }
   },
   "outputs": [],
   "source": [
    "%sql\n",
    "-- Insert new records to Gold Table\n",
    "MERGE INTO dwh.gold.country_state_dim AS tgt\n",
    "USING (\n",
    "  SELECT country_state_sk, country, state\n",
    "  FROM dwh.silver.country_state_dim\n",
    ") AS src\n",
    "ON tgt.country = src.country\n",
    "   AND tgt.state = src.state\n",
    "WHEN NOT MATCHED THEN\n",
    "  INSERT (country_state_sk, country, state)\n",
    "  VALUES (src.country_state_sk, src.country, src.state);"
   ]
  }
 ],
 "metadata": {
  "application/vnd.databricks.v1+notebook": {
   "computePreferences": null,
   "dashboards": [],
   "environmentMetadata": {
    "base_environment": "",
    "environment_version": "4"
   },
   "inputWidgetPreferences": null,
   "language": "python",
   "notebookMetadata": {
    "mostRecentlyExecutedCommandWithImplicitDF": {
     "commandId": 5234438887426657,
     "dataframes": [
      "_sqldf"
     ]
    },
    "pythonIndentUnit": 4
   },
   "notebookName": "gold_country_state_dim_etl",
   "widgets": {}
  },
  "language_info": {
   "name": "python"
  }
 },
 "nbformat": 4,
 "nbformat_minor": 0
}
