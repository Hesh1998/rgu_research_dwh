{
 "cells": [
  {
   "cell_type": "code",
   "execution_count": 0,
   "metadata": {
    "application/vnd.databricks.v1+cell": {
     "cellMetadata": {
      "byteLimit": 2048000,
      "implicitDf": true,
      "rowLimit": 10000
     },
     "inputWidgets": {},
     "nuid": "aec63044-1635-484b-9077-d3090f159e1e",
     "showTitle": false,
     "tableResultSettingsMap": {},
     "title": ""
    }
   },
   "outputs": [],
   "source": [
    "%sql\n",
    "-- Insert new records to Gold Table\n",
    "MERGE INTO dwh.gold.category_dim AS tgt\n",
    "USING (\n",
    "  SELECT category_sk, category, subcategory\n",
    "  FROM dwh.silver.category_dim\n",
    ") AS src\n",
    "  ON tgt.category = src.category\n",
    "  AND tgt.subcategory = src.subcategory\n",
    "WHEN NOT MATCHED THEN\n",
    "  INSERT (category_sk, category, subcategory)\n",
    "  VALUES (src.category_sk, src.category, src.subcategory);"
   ]
  }
 ],
 "metadata": {
  "application/vnd.databricks.v1+notebook": {
   "computePreferences": null,
   "dashboards": [],
   "environmentMetadata": {
    "base_environment": "",
    "environment_version": "4"
   },
   "inputWidgetPreferences": null,
   "language": "python",
   "notebookMetadata": {
    "mostRecentlyExecutedCommandWithImplicitDF": {
     "commandId": 8887512804871357,
     "dataframes": [
      "_sqldf"
     ]
    },
    "pythonIndentUnit": 4
   },
   "notebookName": "gold_category_dim_etl",
   "widgets": {}
  },
  "language_info": {
   "name": "python"
  }
 },
 "nbformat": 4,
 "nbformat_minor": 0
}
