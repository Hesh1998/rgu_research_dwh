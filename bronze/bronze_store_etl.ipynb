{
 "cells": [
  {
   "cell_type": "code",
   "execution_count": 0,
   "metadata": {
    "application/vnd.databricks.v1+cell": {
     "cellMetadata": {
      "byteLimit": 2048000,
      "rowLimit": 10000
     },
     "inputWidgets": {},
     "nuid": "a49f97f7-4974-4cb5-a4f2-476a33d7cd3b",
     "showTitle": false,
     "tableResultSettingsMap": {},
     "title": ""
    }
   },
   "outputs": [],
   "source": [
    "# Read Store Data from CSV\n",
    "import pandas as pd\n",
    "\n",
    "path = \"/Workspace/Users/kalaruheshan@gmail.com/rgu_research_dwh/bronze/data_files/stores.csv\"\n",
    "df = pd.read_csv(path)"
   ]
  },
  {
   "cell_type": "code",
   "execution_count": 0,
   "metadata": {
    "application/vnd.databricks.v1+cell": {
     "cellMetadata": {
      "byteLimit": 2048000,
      "rowLimit": 10000
     },
     "inputWidgets": {},
     "nuid": "620752ee-0815-440a-8737-e9e5d7cdbcc0",
     "showTitle": false,
     "tableResultSettingsMap": {},
     "title": ""
    }
   },
   "outputs": [],
   "source": [
    "# Insert Store Data to Brozne Layer in Data Lakehouse\n",
    "spark.createDataFrame(df).createOrReplaceTempView(\"store_temp\")\n",
    "\n",
    "spark.sql(\"\"\"\n",
    "DELETE FROM dwh.bronze.store;\n",
    "\"\"\")\n",
    "\n",
    "spark.sql(\"\"\"\n",
    "  INSERT INTO dwh.bronze.store\n",
    "  SELECT\n",
    "    CAST(store_key  AS INT),\n",
    "    CAST(country AS STRING),\n",
    "    CAST(state AS STRING),\n",
    "    CAST(square_meters  AS INT),\n",
    "    to_date(open_date, 'M/d/yyyy') AS open_date\n",
    "  FROM store_temp\n",
    "\"\"\")"
   ]
  }
 ],
 "metadata": {
  "application/vnd.databricks.v1+notebook": {
   "computePreferences": null,
   "dashboards": [],
   "environmentMetadata": {
    "base_environment": "",
    "environment_version": "3"
   },
   "inputWidgetPreferences": null,
   "language": "python",
   "notebookMetadata": {
    "mostRecentlyExecutedCommandWithImplicitDF": {
     "commandId": -1,
     "dataframes": [
      "_sqldf"
     ]
    },
    "pythonIndentUnit": 4
   },
   "notebookName": "bronze_store_etl",
   "widgets": {}
  },
  "language_info": {
   "name": "python"
  }
 },
 "nbformat": 4,
 "nbformat_minor": 0
}
