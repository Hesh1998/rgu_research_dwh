{
 "cells": [
  {
   "cell_type": "code",
   "execution_count": 0,
   "metadata": {
    "application/vnd.databricks.v1+cell": {
     "cellMetadata": {
      "byteLimit": 2048000,
      "rowLimit": 10000
     },
     "inputWidgets": {},
     "nuid": "a49f97f7-4974-4cb5-a4f2-476a33d7cd3b",
     "showTitle": false,
     "tableResultSettingsMap": {},
     "title": ""
    }
   },
   "outputs": [],
   "source": [
    "# Read Currency Data from CSV\n",
    "import pandas as pd\n",
    "\n",
    "path = \"/Workspace/Users/kalaruheshan@gmail.com/rgu_research_dwh/bronze/data_files/exchange_rates.csv\"\n",
    "df = pd.read_csv(path)"
   ]
  },
  {
   "cell_type": "code",
   "execution_count": 0,
   "metadata": {
    "application/vnd.databricks.v1+cell": {
     "cellMetadata": {
      "byteLimit": 2048000,
      "rowLimit": 10000
     },
     "inputWidgets": {},
     "nuid": "620752ee-0815-440a-8737-e9e5d7cdbcc0",
     "showTitle": false,
     "tableResultSettingsMap": {},
     "title": ""
    }
   },
   "outputs": [],
   "source": [
    "# Insert Currency Data to Brozne Layer in Data Lakehouse\n",
    "spark.createDataFrame(df).createOrReplaceTempView(\"currency_temp\")\n",
    "\n",
    "spark.sql(\"\"\"\n",
    "DELETE FROM dwh.bronze.currency;\n",
    "\"\"\")\n",
    "\n",
    "spark.sql(\"\"\"\n",
    "  INSERT INTO dwh.bronze.currency\n",
    "  SELECT\n",
    "    to_date(date, 'M/d/yyyy')    AS date,\n",
    "    CAST(currency AS STRING),\n",
    "    CAST(exchange AS DECIMAL(8,5))\n",
    "  FROM currency_temp\n",
    "\"\"\")"
   ]
  }
 ],
 "metadata": {
  "application/vnd.databricks.v1+notebook": {
   "computePreferences": null,
   "dashboards": [],
   "environmentMetadata": {
    "base_environment": "",
    "environment_version": "3"
   },
   "inputWidgetPreferences": null,
   "language": "python",
   "notebookMetadata": {
    "mostRecentlyExecutedCommandWithImplicitDF": {
     "commandId": -1,
     "dataframes": [
      "_sqldf"
     ]
    },
    "pythonIndentUnit": 4
   },
   "notebookName": "bronze_currency_etl",
   "widgets": {}
  },
  "language_info": {
   "name": "python"
  }
 },
 "nbformat": 4,
 "nbformat_minor": 0
}
